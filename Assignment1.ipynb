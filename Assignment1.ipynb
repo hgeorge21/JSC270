{
  "nbformat": 4,
  "nbformat_minor": 0,
  "metadata": {
    "colab": {
      "name": "Assignment1.ipynb",
      "provenance": [],
      "collapsed_sections": [
        "aS5hd5U7v5ya",
        "KrRKLlYNUlY7",
        "JXqORphpW0qF"
      ],
      "include_colab_link": true
    },
    "kernelspec": {
      "name": "python3",
      "display_name": "Python 3"
    }
  },
  "cells": [
    {
      "cell_type": "markdown",
      "metadata": {
        "id": "view-in-github",
        "colab_type": "text"
      },
      "source": [
        "<a href=\"https://colab.research.google.com/github/hgeorge21/JSC270/blob/main/Assignment1.ipynb\" target=\"_parent\"><img src=\"https://colab.research.google.com/assets/colab-badge.svg\" alt=\"Open In Colab\"/></a>"
      ]
    },
    {
      "cell_type": "markdown",
      "metadata": {
        "id": "w7AHM6bt9Jhj"
      },
      "source": [
        "#Assignment 1: DELVE COVID data \r\n",
        "\r\n",
        "## Learning objectives: \r\n",
        "\r\n",
        "1.   Understanding the DELVE COVID-19 dataset and how it is displayed in the current notebook\r\n",
        "2.   Modifying code to update figures\r\n",
        "3.   Reading in, wrangling, and plotting data on your own!"
      ]
    },
    {
      "cell_type": "markdown",
      "metadata": {
        "id": "jz5xe0EmsQTf"
      },
      "source": [
        "###Go to https://rs-delve.github.io/data_software/global-dataset.html and read about the DELVE Global COVID-19 Dataset. \r\n",
        "\r\n",
        "###Open the python notebook which was used to produce the data exploration on the DELVE website ([here](https://colab.research.google.com/github/rs-delve/covid19_datasets/blob/master/Data_Exploration.ipynb)) and review the code that was used. "
      ]
    },
    {
      "cell_type": "markdown",
      "metadata": {
        "id": "aS5hd5U7v5ya"
      },
      "source": [
        "###Now read the DELVE data into colab\r\n",
        "####Hint: double clicking on the code cells in the DELVE colab, it will show you the code (i.e. the notebook is set to hide the code), you can copy that cell's content ant paste it in the code cell below"
      ]
    },
    {
      "cell_type": "code",
      "metadata": {
        "id": "AVdb-jv9afN0"
      },
      "source": [
        ""
      ],
      "execution_count": null,
      "outputs": []
    },
    {
      "cell_type": "markdown",
      "metadata": {
        "id": "KrRKLlYNUlY7"
      },
      "source": [
        "###Explore the columns of the dataframe using .describe()"
      ]
    },
    {
      "cell_type": "code",
      "metadata": {
        "id": "yRg_JUfIVNR7"
      },
      "source": [
        ""
      ],
      "execution_count": null,
      "outputs": []
    },
    {
      "cell_type": "markdown",
      "metadata": {
        "id": "JXqORphpW0qF"
      },
      "source": [
        "###Now create a new dataframe summarizing average values for each country in each column and display it in the notebook\r\n",
        "\r\n"
      ]
    },
    {
      "cell_type": "code",
      "metadata": {
        "id": "ytSqFPhUZLQ3"
      },
      "source": [
        ""
      ],
      "execution_count": null,
      "outputs": []
    },
    {
      "cell_type": "markdown",
      "metadata": {
        "id": "mY-x10JITi8O"
      },
      "source": [
        "###Copy the code which generates the \"Timline of NPI Introduction for Selected Countries\" graph and comment each command describing what was done, e.g.:\r\n",
        "\r\n",
        "\r\n",
        "\r\n",
        "```\r\n",
        "## add a column to plot_df which replaces the npi name with its enumerated index value\r\n",
        "plot_df['value'] = plot_df.NPI.map({npi: i for i, npi in enumerate(npis)})\r\n",
        "```\r\n",
        "\r\n",
        "\r\n",
        "\r\n",
        "###Next, change the colors on the graph to group NPIs with the same color in the following way: \r\n",
        "* all canceling/closures (e.g. \"npi_cancel_public_events\", \"npi_school_closing\",\"npi_close_public_transport\", \"npi_workplace_closing\")\r\n",
        "* all money-related interventions (e.g. \"npi_income_support\")\r\n",
        "* all testing and PPE interventions (e.g. \"npi_contact_tracing\", \"npi_masks\")\r\n",
        "* remaining NPIs (e.g. \"npi_internal_movement_restrict\")\r\n",
        "\r\n",
        "######Hint: create a new column in plot_df that you can use for the 'hue' argument in the sns.relplot function\r\n",
        "\r\n",
        "###Comment the code you added to make this change"
      ]
    },
    {
      "cell_type": "code",
      "metadata": {
        "id": "1Qtv9fKzXsZD"
      },
      "source": [
        ""
      ],
      "execution_count": null,
      "outputs": []
    },
    {
      "cell_type": "markdown",
      "metadata": {
        "id": "mIavrL81E5hL"
      },
      "source": [
        "###In the DELVE data exploration, they add a widget to allow the user to select only data from a specific country to display. Let's add a widget here and only show the data from one country. It's okay if your country-specific graph is simpler than the ones above (e.g. no dashed horizontal line). "
      ]
    },
    {
      "cell_type": "code",
      "metadata": {
        "id": "f4fa-dJG2cu9"
      },
      "source": [
        ""
      ],
      "execution_count": null,
      "outputs": []
    },
    {
      "cell_type": "markdown",
      "metadata": {
        "id": "7qh0mUUeJxF4"
      },
      "source": [
        "###Now find a COVID-19 dataset available online on your own. The U of T library has a pretty good resource here to help you find some: https://mdl.library.utoronto.ca/covid-19/data\r\n",
        "\r\n",
        "###Read the data into python and create a figure with a widget that allows users to interact with the graph. \r\n",
        "\r\n",
        "###Finally, write a caption in your notebook describing the figure you've created"
      ]
    }
  ]
}