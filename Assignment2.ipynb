{
 "cells": [
  {
   "cell_type": "markdown",
   "metadata": {
    "colab_type": "text",
    "id": "view-in-github"
   },
   "source": [
    "<a href=\"https://colab.research.google.com/github/larunerdman/JSC270_Assg2/blob/main/JSC270_Assignment2_starter_code.ipynb\" target=\"_parent\"><img src=\"https://colab.research.google.com/assets/colab-badge.svg\" alt=\"Open In Colab\"/></a>"
   ]
  },
  {
   "cell_type": "markdown",
   "metadata": {
    "id": "Dx3JcBg8VZ-a"
   },
   "source": [
    "### Libraries you'll likely need"
   ]
  },
  {
   "cell_type": "code",
   "execution_count": 1,
   "metadata": {
    "id": "3I79uCwE3Sq8"
   },
   "outputs": [],
   "source": [
    "import pandas as pd\n",
    "import numpy as np\n",
    "import matplotlib.pyplot as plt\n",
    "import seaborn as sns\n",
    "from scipy import stats\n",
    "import statsmodels.api as sm\n",
    "import statsmodels.formula.api as smf"
   ]
  },
  {
   "cell_type": "markdown",
   "metadata": {
    "id": "X0oR7u9m-wO6"
   },
   "source": [
    "### Importing data"
   ]
  },
  {
   "cell_type": "code",
   "execution_count": 2,
   "metadata": {
    "id": "f3jscp2H3Yqm"
   },
   "outputs": [],
   "source": [
    "income94 = pd.read_csv('https://archive.ics.uci.edu/ml/machine-learning-databases/adult/adult.data', header=None)\n",
    "income94.columns = ['age','workclass', 'fnlwgt','education','education_num','marital_status','occupation',\n",
    "                    'relationship','race','sex','capital_gain','capital_loss','hours_per_week','native_country','gross_income_group']"
   ]
  },
  {
   "cell_type": "code",
   "execution_count": 3,
   "metadata": {},
   "outputs": [
    {
     "data": {
      "text/html": [
       "<div>\n",
       "<style scoped>\n",
       "    .dataframe tbody tr th:only-of-type {\n",
       "        vertical-align: middle;\n",
       "    }\n",
       "\n",
       "    .dataframe tbody tr th {\n",
       "        vertical-align: top;\n",
       "    }\n",
       "\n",
       "    .dataframe thead th {\n",
       "        text-align: right;\n",
       "    }\n",
       "</style>\n",
       "<table border=\"1\" class=\"dataframe\">\n",
       "  <thead>\n",
       "    <tr style=\"text-align: right;\">\n",
       "      <th></th>\n",
       "      <th>age</th>\n",
       "      <th>workclass</th>\n",
       "      <th>fnlwgt</th>\n",
       "      <th>education</th>\n",
       "      <th>education_num</th>\n",
       "      <th>marital_status</th>\n",
       "      <th>occupation</th>\n",
       "      <th>relationship</th>\n",
       "      <th>race</th>\n",
       "      <th>sex</th>\n",
       "      <th>capital_gain</th>\n",
       "      <th>capital_loss</th>\n",
       "      <th>hours_per_week</th>\n",
       "      <th>native_country</th>\n",
       "      <th>gross_income_group</th>\n",
       "    </tr>\n",
       "  </thead>\n",
       "  <tbody>\n",
       "    <tr>\n",
       "      <th>0</th>\n",
       "      <td>39</td>\n",
       "      <td>State-gov</td>\n",
       "      <td>77516</td>\n",
       "      <td>Bachelors</td>\n",
       "      <td>13</td>\n",
       "      <td>Never-married</td>\n",
       "      <td>Adm-clerical</td>\n",
       "      <td>Not-in-family</td>\n",
       "      <td>White</td>\n",
       "      <td>Male</td>\n",
       "      <td>2174</td>\n",
       "      <td>0</td>\n",
       "      <td>40</td>\n",
       "      <td>United-States</td>\n",
       "      <td>&lt;=50K</td>\n",
       "    </tr>\n",
       "    <tr>\n",
       "      <th>1</th>\n",
       "      <td>50</td>\n",
       "      <td>Self-emp-not-inc</td>\n",
       "      <td>83311</td>\n",
       "      <td>Bachelors</td>\n",
       "      <td>13</td>\n",
       "      <td>Married-civ-spouse</td>\n",
       "      <td>Exec-managerial</td>\n",
       "      <td>Husband</td>\n",
       "      <td>White</td>\n",
       "      <td>Male</td>\n",
       "      <td>0</td>\n",
       "      <td>0</td>\n",
       "      <td>13</td>\n",
       "      <td>United-States</td>\n",
       "      <td>&lt;=50K</td>\n",
       "    </tr>\n",
       "    <tr>\n",
       "      <th>2</th>\n",
       "      <td>38</td>\n",
       "      <td>Private</td>\n",
       "      <td>215646</td>\n",
       "      <td>HS-grad</td>\n",
       "      <td>9</td>\n",
       "      <td>Divorced</td>\n",
       "      <td>Handlers-cleaners</td>\n",
       "      <td>Not-in-family</td>\n",
       "      <td>White</td>\n",
       "      <td>Male</td>\n",
       "      <td>0</td>\n",
       "      <td>0</td>\n",
       "      <td>40</td>\n",
       "      <td>United-States</td>\n",
       "      <td>&lt;=50K</td>\n",
       "    </tr>\n",
       "    <tr>\n",
       "      <th>3</th>\n",
       "      <td>53</td>\n",
       "      <td>Private</td>\n",
       "      <td>234721</td>\n",
       "      <td>11th</td>\n",
       "      <td>7</td>\n",
       "      <td>Married-civ-spouse</td>\n",
       "      <td>Handlers-cleaners</td>\n",
       "      <td>Husband</td>\n",
       "      <td>Black</td>\n",
       "      <td>Male</td>\n",
       "      <td>0</td>\n",
       "      <td>0</td>\n",
       "      <td>40</td>\n",
       "      <td>United-States</td>\n",
       "      <td>&lt;=50K</td>\n",
       "    </tr>\n",
       "    <tr>\n",
       "      <th>4</th>\n",
       "      <td>28</td>\n",
       "      <td>Private</td>\n",
       "      <td>338409</td>\n",
       "      <td>Bachelors</td>\n",
       "      <td>13</td>\n",
       "      <td>Married-civ-spouse</td>\n",
       "      <td>Prof-specialty</td>\n",
       "      <td>Wife</td>\n",
       "      <td>Black</td>\n",
       "      <td>Female</td>\n",
       "      <td>0</td>\n",
       "      <td>0</td>\n",
       "      <td>40</td>\n",
       "      <td>Cuba</td>\n",
       "      <td>&lt;=50K</td>\n",
       "    </tr>\n",
       "  </tbody>\n",
       "</table>\n",
       "</div>"
      ],
      "text/plain": [
       "   age          workclass  fnlwgt   education  education_num  \\\n",
       "0   39          State-gov   77516   Bachelors             13   \n",
       "1   50   Self-emp-not-inc   83311   Bachelors             13   \n",
       "2   38            Private  215646     HS-grad              9   \n",
       "3   53            Private  234721        11th              7   \n",
       "4   28            Private  338409   Bachelors             13   \n",
       "\n",
       "        marital_status          occupation    relationship    race      sex  \\\n",
       "0        Never-married        Adm-clerical   Not-in-family   White     Male   \n",
       "1   Married-civ-spouse     Exec-managerial         Husband   White     Male   \n",
       "2             Divorced   Handlers-cleaners   Not-in-family   White     Male   \n",
       "3   Married-civ-spouse   Handlers-cleaners         Husband   Black     Male   \n",
       "4   Married-civ-spouse      Prof-specialty            Wife   Black   Female   \n",
       "\n",
       "   capital_gain  capital_loss  hours_per_week  native_country  \\\n",
       "0          2174             0              40   United-States   \n",
       "1             0             0              13   United-States   \n",
       "2             0             0              40   United-States   \n",
       "3             0             0              40   United-States   \n",
       "4             0             0              40            Cuba   \n",
       "\n",
       "  gross_income_group  \n",
       "0              <=50K  \n",
       "1              <=50K  \n",
       "2              <=50K  \n",
       "3              <=50K  \n",
       "4              <=50K  "
      ]
     },
     "execution_count": 3,
     "metadata": {},
     "output_type": "execute_result"
    }
   ],
   "source": [
    "income94.head(5)"
   ]
  },
  {
   "cell_type": "code",
   "execution_count": 4,
   "metadata": {},
   "outputs": [
    {
     "name": "stdout",
     "output_type": "stream",
     "text": [
      "<class 'pandas.core.frame.DataFrame'>\n",
      "RangeIndex: 32561 entries, 0 to 32560\n",
      "Data columns (total 15 columns):\n",
      " #   Column              Non-Null Count  Dtype \n",
      "---  ------              --------------  ----- \n",
      " 0   age                 32561 non-null  int64 \n",
      " 1   workclass           32561 non-null  object\n",
      " 2   fnlwgt              32561 non-null  int64 \n",
      " 3   education           32561 non-null  object\n",
      " 4   education_num       32561 non-null  int64 \n",
      " 5   marital_status      32561 non-null  object\n",
      " 6   occupation          32561 non-null  object\n",
      " 7   relationship        32561 non-null  object\n",
      " 8   race                32561 non-null  object\n",
      " 9   sex                 32561 non-null  object\n",
      " 10  capital_gain        32561 non-null  int64 \n",
      " 11  capital_loss        32561 non-null  int64 \n",
      " 12  hours_per_week      32561 non-null  int64 \n",
      " 13  native_country      32561 non-null  object\n",
      " 14  gross_income_group  32561 non-null  object\n",
      "dtypes: int64(6), object(9)\n",
      "memory usage: 3.7+ MB\n"
     ]
    }
   ],
   "source": [
    "income94.info()"
   ]
  },
  {
   "cell_type": "markdown",
   "metadata": {},
   "source": [
    "#### Exploring Data 2) \n",
    "Missing values for strings are represented using \" ?\" (NOTE: there is a space...)\n",
    "- workclass\n",
    "- occupation\n",
    "- native_country"
   ]
  },
  {
   "cell_type": "code",
   "execution_count": 5,
   "metadata": {},
   "outputs": [
    {
     "name": "stdout",
     "output_type": "stream",
     "text": [
      "<class 'pandas.core.frame.DataFrame'>\n",
      "RangeIndex: 32561 entries, 0 to 32560\n",
      "Data columns (total 15 columns):\n",
      " #   Column              Non-Null Count  Dtype \n",
      "---  ------              --------------  ----- \n",
      " 0   age                 32561 non-null  int64 \n",
      " 1   workclass           30725 non-null  object\n",
      " 2   fnlwgt              32561 non-null  int64 \n",
      " 3   education           32561 non-null  object\n",
      " 4   education_num       32561 non-null  int64 \n",
      " 5   marital_status      32561 non-null  object\n",
      " 6   occupation          30718 non-null  object\n",
      " 7   relationship        32561 non-null  object\n",
      " 8   race                32561 non-null  object\n",
      " 9   sex                 32561 non-null  object\n",
      " 10  capital_gain        32561 non-null  int64 \n",
      " 11  capital_loss        32561 non-null  int64 \n",
      " 12  hours_per_week      32561 non-null  int64 \n",
      " 13  native_country      31978 non-null  object\n",
      " 14  gross_income_group  32561 non-null  object\n",
      "dtypes: int64(6), object(9)\n",
      "memory usage: 3.7+ MB\n"
     ]
    }
   ],
   "source": [
    "income94 = income94.replace(' ?', np.nan)\n",
    "income94.info()"
   ]
  },
  {
   "cell_type": "code",
   "execution_count": 6,
   "metadata": {},
   "outputs": [],
   "source": [
    "for col in ['age', 'fnlwgt', 'education_num', 'capital_gain', 'capital_loss', 'hours_per_week']:\n",
    "    income94[col] = income94[col].astype('float64')"
   ]
  },
  {
   "cell_type": "markdown",
   "metadata": {},
   "source": [
    "#### Exploring Data 3)\n",
    "Two problems\n",
    "1. The Capital gain and loss distribution should be transformed into a new variable. Because there are some values that are too high and this makes the entire distribution very hard to describe.\n",
    "2. There are too many capital gain / loss of 0, hard to visualize the distribution of the rest $\\rightarrow$ just ignore the 0 ones\n",
    "\n",
    "Solution: Take the log of the capital gain and loss and ignore those with 0 gain and loss."
   ]
  },
  {
   "cell_type": "code",
   "execution_count": 7,
   "metadata": {},
   "outputs": [
    {
     "data": {
      "image/png": "[encoded data removed]",
      "text/plain": [
       "<Figure size 1152x576 with 2 Axes>"
      ]
     },
     "metadata": {
      "needs_background": "light"
     },
     "output_type": "display_data"
    }
   ],
   "source": [
    "fig, axs = plt.subplots(1, 2, figsize=(16, 8))\n",
    "axs[0].hist(income94.capital_gain, bins=20)\n",
    "axs[0].set_title('Capital Gain Distribution')\n",
    "axs[0].set_xlabel('Capital Gain')\n",
    "axs[0].set_ylabel('Relative Frequency')\n",
    "\n",
    "axs[1].hist(income94.capital_loss, bins=20)\n",
    "axs[1].set_title('Capital Loss Distribution')\n",
    "axs[1].set_xlabel('Capital Loss')\n",
    "axs[1].set_ylabel('Relative Frequency')\n",
    "\n",
    "plt.show()"
   ]
  },
  {
   "cell_type": "code",
   "execution_count": 8,
   "metadata": {},
   "outputs": [
    {
     "data": {
      "image/png": "[encoded data removed]",
      "text/plain": [
       "<Figure size 1152x576 with 2 Axes>"
      ]
     },
     "metadata": {
      "needs_background": "light"
     },
     "output_type": "display_data"
    }
   ],
   "source": [
    "# Transform by taking log (change the 0s to 1s because log(0) undefined...)\n",
    "income94['log_capital_gain'] = income94.capital_gain.apply(lambda x: np.log(x) if x > 0 else np.log(1))\n",
    "income94['log_capital_loss'] = income94.capital_loss.apply(lambda x: np.log(x) if x > 0 else np.log(1))\n",
    "\n",
    "fig, axs = plt.subplots(1, 2, figsize=(16, 8))\n",
    "axs[0].hist(income94[income94.log_capital_gain > 0].log_capital_gain, bins=20)\n",
    "axs[0].set_title('Log of Capital Gain Distribution')\n",
    "axs[0].set_ylabel('Relative Frequency')\n",
    "axs[0].set_xlabel('log of Capital Gain')\n",
    "\n",
    "axs[1].hist(income94[income94.log_capital_loss > 0].log_capital_loss, bins=20)\n",
    "axs[1].set_title('Log of Capital Loss Distribution')\n",
    "axs[1].set_ylabel('Relative Frequency')\n",
    "axs[1].set_xlabel('log of Capital Loss')\n",
    "\n",
    "plt.show()"
   ]
  },
  {
   "cell_type": "markdown",
   "metadata": {},
   "source": [
    "#### Exploring Data 4)\n",
    "The weights are not symetrically distributed by looking at the data. The weights are skewed to the left and have more people with lower weights.\n",
    "\n",
    "Comparing the distribution between male and female, we observe that their distribution are very similar. In order to look at outliers effectively, we want to make sure male and female are drawn from the same distribution and therefore can be examined altogether rather than separately. We conduct this distribution test with KS-test with the null hypothesis being \"They are from the same distribution\".\n",
    "\n",
    "The p-value is greater than 0.05 and we fail to reject the null hypothesis. Let us now suppose they are drawn from same distribution and examine the male and female together remove the outliers from the entire population together. There appears to have some outliers that are very far off from the rest of the weights and should be removed; the criteria used is 3 standard deviation.  "
   ]
  },
  {
   "cell_type": "code",
   "execution_count": 9,
   "metadata": {},
   "outputs": [
    {
     "data": {
      "image/png": "[encoded data removed]",
      "text/plain": [
       "<Figure size 1152x576 with 1 Axes>"
      ]
     },
     "metadata": {
      "needs_background": "light"
     },
     "output_type": "display_data"
    }
   ],
   "source": [
    "from matplotlib.offsetbox import AnchoredText\n",
    "\n",
    "mu = income94.fnlwgt.mean()\n",
    "std= income94.fnlwgt.std()\n",
    "\n",
    "fig, ax = plt.subplots(figsize=(16,8))\n",
    "\n",
    "ax.hist(income94.fnlwgt, bins=40)\n",
    "anchored_text = AnchoredText(f\"Mean: {mu:.2f}\\nStd. Dev.: {std:.2f}\", loc=2)\n",
    "ax.add_artist(anchored_text)\n",
    "\n",
    "ax.set_xlabel('Final Weight (fnlwgt)')\n",
    "ax.set_ylabel('Relative Frequency')\n",
    "ax.set_title('Final Weights Distribution')\n",
    "plt.show()"
   ]
  },
  {
   "cell_type": "code",
   "execution_count": 10,
   "metadata": {},
   "outputs": [
    {
     "data": {
      "image/png": "[encoded data removed]",
      "text/plain": [
       "<Figure size 1152x576 with 2 Axes>"
      ]
     },
     "metadata": {
      "needs_background": "light"
     },
     "output_type": "display_data"
    }
   ],
   "source": [
    "# The distributions of male and female look very similar, need to test if they are drawn from same distribution\n",
    "mu_m = income94[income94.sex == ' Male'].fnlwgt.mean()\n",
    "std_m = income94[income94.sex == ' Male'].fnlwgt.std()\n",
    "mu_f = income94[income94.sex == ' Female'].fnlwgt.mean()\n",
    "std_f = income94[income94.sex == ' Female'].fnlwgt.std()\n",
    "\n",
    "fig, axs = plt.subplots(1, 2, figsize=(16,8))\n",
    "axs[0].hist(income94[income94.sex == ' Male'].fnlwgt, bins=40)\n",
    "anchored_text1 = AnchoredText(f\"Mean: {mu_m:.2f}\\nStd. Dev.: {std_m:.2f}\", loc=2)\n",
    "axs[0].add_artist(anchored_text1)\n",
    "axs[0].set_xlabel('Final Weight (fnlwgt)')\n",
    "axs[0].set_ylabel('Relative Frequency')\n",
    "axs[0].set_title('Final Weights Distribution --- Male')\n",
    "\n",
    "axs[1].hist(income94[income94.sex == ' Female'].fnlwgt, bins=40)\n",
    "anchored_text2 = AnchoredText(f\"Mean: {mu_f:.2f}\\nStd. Dev.: {std_f:.2f}\", loc=2)\n",
    "axs[1].add_artist(anchored_text2)\n",
    "axs[1].set_xlabel('Final Weight (fnlwgt)')\n",
    "axs[1].set_ylabel('Relative Frequency')\n",
    "axs[1].set_title('Final Weights Distribution --- Female')\n",
    "plt.show()"
   ]
  },
  {
   "cell_type": "code",
   "execution_count": 11,
   "metadata": {},
   "outputs": [
    {
     "name": "stdout",
     "output_type": "stream",
     "text": [
      "KS statistics: 0.0154\n",
      "p-value: 0.0657\n"
     ]
    }
   ],
   "source": [
    "## Conduct KS test to see if male and female distributions are different\n",
    "val_m = (income94[income94.sex == ' Male'].fnlwgt - mu_m) / std_m\n",
    "val_f = (income94[income94.sex == ' Female'].fnlwgt - mu_f) / std_f\n",
    "\n",
    "from scipy import stats\n",
    "ks, pval = stats.ks_2samp(val_m, val_f)\n",
    "print(f\"KS statistics: {ks:.4f}\")\n",
    "print(f\"p-value: {pval:.4f}\")"
   ]
  },
  {
   "cell_type": "code",
   "execution_count": 12,
   "metadata": {},
   "outputs": [
    {
     "name": "stderr",
     "output_type": "stream",
     "text": [
      "c:\\python3.8\\lib\\site-packages\\numpy\\lib\\histograms.py:839: RuntimeWarning: invalid value encountered in greater_equal\n",
      "  keep = (tmp_a >= first_edge)\n",
      "c:\\python3.8\\lib\\site-packages\\numpy\\lib\\histograms.py:840: RuntimeWarning: invalid value encountered in less_equal\n",
      "  keep &= (tmp_a <= last_edge)\n"
     ]
    },
    {
     "data": {
      "image/png": "[encoded data removed]",
      "text/plain": [
       "<Figure size 1152x576 with 1 Axes>"
      ]
     },
     "metadata": {
      "needs_background": "light"
     },
     "output_type": "display_data"
    }
   ],
   "source": [
    "## Remove the outliers and plot\n",
    "income94.fnlwgt = income94.fnlwgt.apply(lambda x: np.nan if x > mu+3*std else x)\n",
    "income94.fnlwgt = income94.fnlwgt.apply(lambda x: np.nan if x < mu-3*std else x)\n",
    "\n",
    "fig, ax = plt.subplots(figsize=(16,8))\n",
    "\n",
    "ax.hist(income94.fnlwgt, bins=40)\n",
    "anchored_text = AnchoredText(f\"Mean: {mu:.2f}\\nStd. Dev.: {std:.2f}\", loc=2)\n",
    "ax.add_artist(anchored_text)\n",
    "\n",
    "ax.set_xlabel('Final Weight (fnlwgt)')\n",
    "ax.set_ylabel('Relative Frequency')\n",
    "ax.set_title('Final Weights Distribution')\n",
    "plt.show()"
   ]
  },
  {
   "cell_type": "markdown",
   "metadata": {},
   "source": [
    "### Correlation"
   ]
  },
  {
   "cell_type": "markdown",
   "metadata": {},
   "source": [
    "#### a) & b)\n",
    "\n",
    "Looking at the correlations, it appears that there is a weak correlation between hours_per_week and education_num; the other two essentially have no correlation at all. Between hours_per_week and education_num where there is weak correlation $>|0.1|$, the p-value is very small, indicating that this correlation is indeed statistically significant.\n",
    "\n",
    "The correlation direction between education_num and hours_per_week is expected since people who study more tend to work harder and thus work longer hours. Furthermore, it is also expected that the correlation is not very strong because people vary a lot; and it depends heavily on the nature of the job."
   ]
  },
  {
   "cell_type": "code",
   "execution_count": 13,
   "metadata": {},
   "outputs": [
    {
     "name": "stdout",
     "output_type": "stream",
     "text": [
      "Age and Education_num:\n",
      "\tCorrelation: 0.0365\n",
      "\tp-val:4.305718002110826e-11\n",
      "Age and Hours_per_week:\n",
      "\tCorrelation: 0.0688\n",
      "\tp-val:2.011285562164848e-35\n",
      "Hours_per_week and Education_num:\n",
      "\tCorrelation: 0.1481\n",
      "\tp-val:4.2366474792071436e-159\n"
     ]
    }
   ],
   "source": [
    "r_age_edu, pval0 = stats.pearsonr(income94.age, income94.education_num)\n",
    "r_age_hrs, pval1 = stats.pearsonr(income94.age, income94.hours_per_week)\n",
    "r_edu_hrs, pval2 = stats.pearsonr(income94.education_num, income94.hours_per_week)\n",
    "\n",
    "print(f\"Age and Education_num:\\n\\tCorrelation: {r_age_edu :.4f}\\n\\tp-val:{pval0}\")\n",
    "print(f\"Age and Hours_per_week:\\n\\tCorrelation: {r_age_hrs :.4f}\\n\\tp-val:{pval1}\")\n",
    "print(f\"Hours_per_week and Education_num:\\n\\tCorrelation: {r_edu_hrs :.4f}\\n\\tp-val:{pval2}\")"
   ]
  },
  {
   "cell_type": "markdown",
   "metadata": {},
   "source": [
    "#### Correlation c)\n",
    "\n",
    "For male, there appears to be a very slight correlation between age and education_num where higher age is tied to higher education_num. The p-value is very small and thus implies that this correlation is significant. \n",
    "\n",
    "For female however, the correlation is much smaller and the p-value is high (> 0.05) indicating that this correlation number is not statistically significant and may be due to chance. Thus we cannot say there is a correlation between age and education_num for female."
   ]
  },
  {
   "cell_type": "code",
   "execution_count": 13,
   "metadata": {},
   "outputs": [
    {
     "name": "stdout",
     "output_type": "stream",
     "text": [
      "Male:\n",
      "\tCorrelation: 0.0605\n",
      "\tp-val:0.0000\n",
      "Female:\n",
      "\tCorrelation: -0.0179\n",
      "\tp-val:0.0632\n"
     ]
    }
   ],
   "source": [
    "male = income94[income94.sex == ' Male']\n",
    "female = income94[income94.sex == ' Female']\n",
    "\n",
    "corr_m, pval_m = stats.pearsonr(male.age, male.education_num)\n",
    "corr_f, pval_f = stats.pearsonr(female.age, female.education_num)\n",
    "\n",
    "print(f\"Male:\\n\\tCorrelation: {corr_m :.4f}\\n\\tp-val:{pval_m :.4f}\")\n",
    "print(f\"Female:\\n\\tCorrelation: {corr_f :.4f}\\n\\tp-val:{pval_f :.4f}\")"
   ]
  },
  {
   "cell_type": "markdown",
   "metadata": {},
   "source": [
    "#### Correlation d)\n",
    "\n",
    "We note that the change in both variance and covariance are significant for education_num and hours_per_week. This means that people who have higher weights were under-represented when looking at unweighted numbers. This also implies that people who have higher weights usually have characteristics that deviates more from the rest (i.e. the lower weights). \n",
    "\n",
    "The reason for this change could be explained by the distribution of the weights as it is skewed left. So the people who have higher weights are in smaller proportion and their education_num and hours_per_week are under-represented."
   ]
  },
  {
   "cell_type": "code",
   "execution_count": 21,
   "metadata": {},
   "outputs": [],
   "source": [
    "x1 = income94.education_num\n",
    "x2 = income94.hours_per_week\n",
    "w = income94.fnlwgt"
   ]
  },
  {
   "cell_type": "code",
   "execution_count": 22,
   "metadata": {},
   "outputs": [
    {
     "data": {
      "text/html": [
       "<div>\n",
       "<style scoped>\n",
       "    .dataframe tbody tr th:only-of-type {\n",
       "        vertical-align: middle;\n",
       "    }\n",
       "\n",
       "    .dataframe tbody tr th {\n",
       "        vertical-align: top;\n",
       "    }\n",
       "\n",
       "    .dataframe thead th {\n",
       "        text-align: right;\n",
       "    }\n",
       "</style>\n",
       "<table border=\"1\" class=\"dataframe\">\n",
       "  <thead>\n",
       "    <tr style=\"text-align: right;\">\n",
       "      <th></th>\n",
       "      <th>education_num</th>\n",
       "      <th>hours_per_week</th>\n",
       "    </tr>\n",
       "  </thead>\n",
       "  <tbody>\n",
       "    <tr>\n",
       "      <th>education_num</th>\n",
       "      <td>6.618890</td>\n",
       "      <td>4.705338</td>\n",
       "    </tr>\n",
       "    <tr>\n",
       "      <th>hours_per_week</th>\n",
       "      <td>4.705338</td>\n",
       "      <td>152.458995</td>\n",
       "    </tr>\n",
       "  </tbody>\n",
       "</table>\n",
       "</div>"
      ],
      "text/plain": [
       "                education_num  hours_per_week\n",
       "education_num        6.618890        4.705338\n",
       "hours_per_week       4.705338      152.458995"
      ]
     },
     "execution_count": 22,
     "metadata": {},
     "output_type": "execute_result"
    }
   ],
   "source": [
    "income94[['education_num', 'hours_per_week']].cov()"
   ]
  },
  {
   "cell_type": "code",
   "execution_count": 23,
   "metadata": {},
   "outputs": [
    {
     "data": {
      "text/html": [
       "<div>\n",
       "<style scoped>\n",
       "    .dataframe tbody tr th:only-of-type {\n",
       "        vertical-align: middle;\n",
       "    }\n",
       "\n",
       "    .dataframe tbody tr th {\n",
       "        vertical-align: top;\n",
       "    }\n",
       "\n",
       "    .dataframe thead th {\n",
       "        text-align: right;\n",
       "    }\n",
       "</style>\n",
       "<table border=\"1\" class=\"dataframe\">\n",
       "  <thead>\n",
       "    <tr style=\"text-align: right;\">\n",
       "      <th></th>\n",
       "      <th>weighted_ed_num</th>\n",
       "      <th>weighted_hrs</th>\n",
       "    </tr>\n",
       "  </thead>\n",
       "  <tbody>\n",
       "    <tr>\n",
       "      <th>weighted_ed_num</th>\n",
       "      <td>33.751773</td>\n",
       "      <td>107.926970</td>\n",
       "    </tr>\n",
       "    <tr>\n",
       "      <th>weighted_hrs</th>\n",
       "      <td>107.926970</td>\n",
       "      <td>600.474005</td>\n",
       "    </tr>\n",
       "  </tbody>\n",
       "</table>\n",
       "</div>"
      ],
      "text/plain": [
       "                 weighted_ed_num  weighted_hrs\n",
       "weighted_ed_num        33.751773    107.926970\n",
       "weighted_hrs          107.926970    600.474005"
      ]
     },
     "execution_count": 23,
     "metadata": {},
     "output_type": "execute_result"
    }
   ],
   "source": [
    "income94['weighted_ed_num'] = x1 * w / np.mean(w)\n",
    "income94['weighted_hrs'] = x2 * w / np.mean(w)\n",
    "income94[['weighted_ed_num', 'weighted_hrs']].cov()"
   ]
  },
  {
   "cell_type": "markdown",
   "metadata": {},
   "source": [
    "### Linear Regression"
   ]
  },
  {
   "cell_type": "markdown",
   "metadata": {},
   "source": [
    "#### a)\n",
    "\n",
    "The regression coefficient is positive for male when looking at hours_per_week, therefore male tend to work more than female."
   ]
  },
  {
   "cell_type": "code",
   "execution_count": 15,
   "metadata": {},
   "outputs": [
    {
     "data": {
      "text/html": [
       "<table class=\"simpletable\">\n",
       "<caption>OLS Regression Results</caption>\n",
       "<tr>\n",
       "  <th>Dep. Variable:</th>     <td>hours_per_week</td>  <th>  R-squared:         </th>  <td>   0.053</td>  \n",
       "</tr>\n",
       "<tr>\n",
       "  <th>Model:</th>                   <td>OLS</td>       <th>  Adj. R-squared:    </th>  <td>   0.053</td>  \n",
       "</tr>\n",
       "<tr>\n",
       "  <th>Method:</th>             <td>Least Squares</td>  <th>  F-statistic:       </th>  <td>   1807.</td>  \n",
       "</tr>\n",
       "<tr>\n",
       "  <th>Date:</th>             <td>Sun, 07 Feb 2021</td> <th>  Prob (F-statistic):</th>   <td>  0.00</td>   \n",
       "</tr>\n",
       "<tr>\n",
       "  <th>Time:</th>                 <td>15:04:56</td>     <th>  Log-Likelihood:    </th> <td>-1.2716e+05</td>\n",
       "</tr>\n",
       "<tr>\n",
       "  <th>No. Observations:</th>      <td> 32561</td>      <th>  AIC:               </th>  <td>2.543e+05</td> \n",
       "</tr>\n",
       "<tr>\n",
       "  <th>Df Residuals:</th>          <td> 32559</td>      <th>  BIC:               </th>  <td>2.543e+05</td> \n",
       "</tr>\n",
       "<tr>\n",
       "  <th>Df Model:</th>              <td>     1</td>      <th>                     </th>      <td> </td>     \n",
       "</tr>\n",
       "<tr>\n",
       "  <th>Covariance Type:</th>      <td>nonrobust</td>    <th>                     </th>      <td> </td>     \n",
       "</tr>\n",
       "</table>\n",
       "<table class=\"simpletable\">\n",
       "<tr>\n",
       "         <td></td>            <th>coef</th>     <th>std err</th>      <th>t</th>      <th>P>|t|</th>  <th>[0.025</th>    <th>0.975]</th>  \n",
       "</tr>\n",
       "<tr>\n",
       "  <th>Intercept</th>       <td>   36.4104</td> <td>    0.116</td> <td>  314.412</td> <td> 0.000</td> <td>   36.183</td> <td>   36.637</td>\n",
       "</tr>\n",
       "<tr>\n",
       "  <th>C(sex)[T. Male]</th> <td>    6.0177</td> <td>    0.142</td> <td>   42.510</td> <td> 0.000</td> <td>    5.740</td> <td>    6.295</td>\n",
       "</tr>\n",
       "</table>\n",
       "<table class=\"simpletable\">\n",
       "<tr>\n",
       "  <th>Omnibus:</th>       <td>2649.390</td> <th>  Durbin-Watson:     </th> <td>   2.019</td> \n",
       "</tr>\n",
       "<tr>\n",
       "  <th>Prob(Omnibus):</th>  <td> 0.000</td>  <th>  Jarque-Bera (JB):  </th> <td>13090.867</td>\n",
       "</tr>\n",
       "<tr>\n",
       "  <th>Skew:</th>           <td> 0.239</td>  <th>  Prob(JB):          </th> <td>    0.00</td> \n",
       "</tr>\n",
       "<tr>\n",
       "  <th>Kurtosis:</th>       <td> 6.069</td>  <th>  Cond. No.          </th> <td>    3.24</td> \n",
       "</tr>\n",
       "</table><br/><br/>Notes:<br/>[1] Standard Errors assume that the covariance matrix of the errors is correctly specified."
      ],
      "text/plain": [
       "<class 'statsmodels.iolib.summary.Summary'>\n",
       "\"\"\"\n",
       "                            OLS Regression Results                            \n",
       "==============================================================================\n",
       "Dep. Variable:         hours_per_week   R-squared:                       0.053\n",
       "Model:                            OLS   Adj. R-squared:                  0.053\n",
       "Method:                 Least Squares   F-statistic:                     1807.\n",
       "Date:                Sun, 07 Feb 2021   Prob (F-statistic):               0.00\n",
       "Time:                        15:04:56   Log-Likelihood:            -1.2716e+05\n",
       "No. Observations:               32561   AIC:                         2.543e+05\n",
       "Df Residuals:                   32559   BIC:                         2.543e+05\n",
       "Df Model:                           1                                         \n",
       "Covariance Type:            nonrobust                                         \n",
       "===================================================================================\n",
       "                      coef    std err          t      P>|t|      [0.025      0.975]\n",
       "-----------------------------------------------------------------------------------\n",
       "Intercept          36.4104      0.116    314.412      0.000      36.183      36.637\n",
       "C(sex)[T. Male]     6.0177      0.142     42.510      0.000       5.740       6.295\n",
       "==============================================================================\n",
       "Omnibus:                     2649.390   Durbin-Watson:                   2.019\n",
       "Prob(Omnibus):                  0.000   Jarque-Bera (JB):            13090.867\n",
       "Skew:                           0.239   Prob(JB):                         0.00\n",
       "Kurtosis:                       6.069   Cond. No.                         3.24\n",
       "==============================================================================\n",
       "\n",
       "Notes:\n",
       "[1] Standard Errors assume that the covariance matrix of the errors is correctly specified.\n",
       "\"\"\""
      ]
     },
     "execution_count": 15,
     "metadata": {},
     "output_type": "execute_result"
    }
   ],
   "source": [
    "model = smf.ols('hours_per_week ~ C(sex)', data=income94).fit()\n",
    "model.summary()"
   ]
  },
  {
   "cell_type": "markdown",
   "metadata": {},
   "source": [
    "#### Linear Regression b)\n",
    "\n",
    "The trend with men and women appear to be the same still. The p-value for education_num is less than 0.05 and therefore it is significant."
   ]
  },
  {
   "cell_type": "code",
   "execution_count": 16,
   "metadata": {},
   "outputs": [
    {
     "data": {
      "text/html": [
       "<table class=\"simpletable\">\n",
       "<caption>OLS Regression Results</caption>\n",
       "<tr>\n",
       "  <th>Dep. Variable:</th>     <td>hours_per_week</td>  <th>  R-squared:         </th>  <td>   0.074</td>  \n",
       "</tr>\n",
       "<tr>\n",
       "  <th>Model:</th>                   <td>OLS</td>       <th>  Adj. R-squared:    </th>  <td>   0.074</td>  \n",
       "</tr>\n",
       "<tr>\n",
       "  <th>Method:</th>             <td>Least Squares</td>  <th>  F-statistic:       </th>  <td>   1295.</td>  \n",
       "</tr>\n",
       "<tr>\n",
       "  <th>Date:</th>             <td>Sun, 07 Feb 2021</td> <th>  Prob (F-statistic):</th>   <td>  0.00</td>   \n",
       "</tr>\n",
       "<tr>\n",
       "  <th>Time:</th>                 <td>15:04:57</td>     <th>  Log-Likelihood:    </th> <td>-1.2680e+05</td>\n",
       "</tr>\n",
       "<tr>\n",
       "  <th>No. Observations:</th>      <td> 32561</td>      <th>  AIC:               </th>  <td>2.536e+05</td> \n",
       "</tr>\n",
       "<tr>\n",
       "  <th>Df Residuals:</th>          <td> 32558</td>      <th>  BIC:               </th>  <td>2.536e+05</td> \n",
       "</tr>\n",
       "<tr>\n",
       "  <th>Df Model:</th>              <td>     2</td>      <th>                     </th>      <td> </td>     \n",
       "</tr>\n",
       "<tr>\n",
       "  <th>Covariance Type:</th>      <td>nonrobust</td>    <th>                     </th>      <td> </td>     \n",
       "</tr>\n",
       "</table>\n",
       "<table class=\"simpletable\">\n",
       "<tr>\n",
       "         <td></td>            <th>coef</th>     <th>std err</th>      <th>t</th>      <th>P>|t|</th>  <th>[0.025</th>    <th>0.975]</th>  \n",
       "</tr>\n",
       "<tr>\n",
       "  <th>Intercept</th>       <td>   29.4106</td> <td>    0.281</td> <td>  104.556</td> <td> 0.000</td> <td>   28.859</td> <td>   29.962</td>\n",
       "</tr>\n",
       "<tr>\n",
       "  <th>C(sex)[T. Male]</th> <td>    5.9709</td> <td>    0.140</td> <td>   42.653</td> <td> 0.000</td> <td>    5.697</td> <td>    6.245</td>\n",
       "</tr>\n",
       "<tr>\n",
       "  <th>education_num</th>   <td>    0.6975</td> <td>    0.026</td> <td>   27.244</td> <td> 0.000</td> <td>    0.647</td> <td>    0.748</td>\n",
       "</tr>\n",
       "</table>\n",
       "<table class=\"simpletable\">\n",
       "<tr>\n",
       "  <th>Omnibus:</th>       <td>2783.881</td> <th>  Durbin-Watson:     </th> <td>   2.018</td> \n",
       "</tr>\n",
       "<tr>\n",
       "  <th>Prob(Omnibus):</th>  <td> 0.000</td>  <th>  Jarque-Bera (JB):  </th> <td>14492.060</td>\n",
       "</tr>\n",
       "<tr>\n",
       "  <th>Skew:</th>           <td> 0.247</td>  <th>  Prob(JB):          </th> <td>    0.00</td> \n",
       "</tr>\n",
       "<tr>\n",
       "  <th>Kurtosis:</th>       <td> 6.231</td>  <th>  Cond. No.          </th> <td>    45.6</td> \n",
       "</tr>\n",
       "</table><br/><br/>Notes:<br/>[1] Standard Errors assume that the covariance matrix of the errors is correctly specified."
      ],
      "text/plain": [
       "<class 'statsmodels.iolib.summary.Summary'>\n",
       "\"\"\"\n",
       "                            OLS Regression Results                            \n",
       "==============================================================================\n",
       "Dep. Variable:         hours_per_week   R-squared:                       0.074\n",
       "Model:                            OLS   Adj. R-squared:                  0.074\n",
       "Method:                 Least Squares   F-statistic:                     1295.\n",
       "Date:                Sun, 07 Feb 2021   Prob (F-statistic):               0.00\n",
       "Time:                        15:04:57   Log-Likelihood:            -1.2680e+05\n",
       "No. Observations:               32561   AIC:                         2.536e+05\n",
       "Df Residuals:                   32558   BIC:                         2.536e+05\n",
       "Df Model:                           2                                         \n",
       "Covariance Type:            nonrobust                                         \n",
       "===================================================================================\n",
       "                      coef    std err          t      P>|t|      [0.025      0.975]\n",
       "-----------------------------------------------------------------------------------\n",
       "Intercept          29.4106      0.281    104.556      0.000      28.859      29.962\n",
       "C(sex)[T. Male]     5.9709      0.140     42.653      0.000       5.697       6.245\n",
       "education_num       0.6975      0.026     27.244      0.000       0.647       0.748\n",
       "==============================================================================\n",
       "Omnibus:                     2783.881   Durbin-Watson:                   2.018\n",
       "Prob(Omnibus):                  0.000   Jarque-Bera (JB):            14492.060\n",
       "Skew:                           0.247   Prob(JB):                         0.00\n",
       "Kurtosis:                       6.231   Cond. No.                         45.6\n",
       "==============================================================================\n",
       "\n",
       "Notes:\n",
       "[1] Standard Errors assume that the covariance matrix of the errors is correctly specified.\n",
       "\"\"\""
      ]
     },
     "execution_count": 16,
     "metadata": {},
     "output_type": "execute_result"
    }
   ],
   "source": [
    "model = smf.ols('hours_per_week ~ C(sex) + education_num', data=income94).fit()\n",
    "model.summary()"
   ]
  },
  {
   "cell_type": "markdown",
   "metadata": {},
   "source": [
    "#### Linear Regression c)"
   ]
  },
  {
   "cell_type": "markdown",
   "metadata": {},
   "source": [
    "It appears that the model with three variables is better judging from the $R^2$ (highest) and AIC and BIC (lowest) which are all indicators of a better model.\n",
    "\n",
    "To re-do what was done using a model fitting procedure, we need to\n",
    "1. Identify the dependent variable (the one we are trying to predict / fit) and the variables that are correlated to it to perform regression. Correlation matters here because it'd be more relevant for prediction if there is higher correlation.\n",
    "2. To determine a metric in which we should minimize or maximize (e.g. residual error for linear regression)\n",
    "3. Fit the parameters, coefficients and intercept, for the model (done by statsmodel in this case) that optimizes the metric we chose. Upon completion, need to evaluate the model using different statistics."
   ]
  },
  {
   "cell_type": "code",
   "execution_count": 17,
   "metadata": {},
   "outputs": [
    {
     "data": {
      "text/html": [
       "<table class=\"simpletable\">\n",
       "<caption>OLS Regression Results</caption>\n",
       "<tr>\n",
       "  <th>Dep. Variable:</th>     <td>hours_per_week</td>  <th>  R-squared:         </th>  <td>   0.094</td>  \n",
       "</tr>\n",
       "<tr>\n",
       "  <th>Model:</th>                   <td>OLS</td>       <th>  Adj. R-squared:    </th>  <td>   0.094</td>  \n",
       "</tr>\n",
       "<tr>\n",
       "  <th>Method:</th>             <td>Least Squares</td>  <th>  F-statistic:       </th>  <td>   1130.</td>  \n",
       "</tr>\n",
       "<tr>\n",
       "  <th>Date:</th>             <td>Sun, 07 Feb 2021</td> <th>  Prob (F-statistic):</th>   <td>  0.00</td>   \n",
       "</tr>\n",
       "<tr>\n",
       "  <th>Time:</th>                 <td>15:04:57</td>     <th>  Log-Likelihood:    </th> <td>-1.2643e+05</td>\n",
       "</tr>\n",
       "<tr>\n",
       "  <th>No. Observations:</th>      <td> 32561</td>      <th>  AIC:               </th>  <td>2.529e+05</td> \n",
       "</tr>\n",
       "<tr>\n",
       "  <th>Df Residuals:</th>          <td> 32557</td>      <th>  BIC:               </th>  <td>2.529e+05</td> \n",
       "</tr>\n",
       "<tr>\n",
       "  <th>Df Model:</th>              <td>     3</td>      <th>                     </th>      <td> </td>     \n",
       "</tr>\n",
       "<tr>\n",
       "  <th>Covariance Type:</th>      <td>nonrobust</td>    <th>                     </th>      <td> </td>     \n",
       "</tr>\n",
       "</table>\n",
       "<table class=\"simpletable\">\n",
       "<tr>\n",
       "                 <td></td>                   <th>coef</th>     <th>std err</th>      <th>t</th>      <th>P>|t|</th>  <th>[0.025</th>    <th>0.975]</th>  \n",
       "</tr>\n",
       "<tr>\n",
       "  <th>Intercept</th>                      <td>   31.4218</td> <td>    0.288</td> <td>  109.184</td> <td> 0.000</td> <td>   30.858</td> <td>   31.986</td>\n",
       "</tr>\n",
       "<tr>\n",
       "  <th>C(sex)[T. Male]</th>                <td>    5.1010</td> <td>    0.142</td> <td>   35.907</td> <td> 0.000</td> <td>    4.823</td> <td>    5.379</td>\n",
       "</tr>\n",
       "<tr>\n",
       "  <th>C(gross_income_group)[T. >50K]</th> <td>    4.5175</td> <td>    0.166</td> <td>   27.229</td> <td> 0.000</td> <td>    4.192</td> <td>    4.843</td>\n",
       "</tr>\n",
       "<tr>\n",
       "  <th>education_num</th>                  <td>    0.4478</td> <td>    0.027</td> <td>   16.632</td> <td> 0.000</td> <td>    0.395</td> <td>    0.501</td>\n",
       "</tr>\n",
       "</table>\n",
       "<table class=\"simpletable\">\n",
       "<tr>\n",
       "  <th>Omnibus:</th>       <td>2984.190</td> <th>  Durbin-Watson:     </th> <td>   2.015</td> \n",
       "</tr>\n",
       "<tr>\n",
       "  <th>Prob(Omnibus):</th>  <td> 0.000</td>  <th>  Jarque-Bera (JB):  </th> <td>15467.160</td>\n",
       "</tr>\n",
       "<tr>\n",
       "  <th>Skew:</th>           <td> 0.296</td>  <th>  Prob(JB):          </th> <td>    0.00</td> \n",
       "</tr>\n",
       "<tr>\n",
       "  <th>Kurtosis:</th>       <td> 6.324</td>  <th>  Cond. No.          </th> <td>    48.1</td> \n",
       "</tr>\n",
       "</table><br/><br/>Notes:<br/>[1] Standard Errors assume that the covariance matrix of the errors is correctly specified."
      ],
      "text/plain": [
       "<class 'statsmodels.iolib.summary.Summary'>\n",
       "\"\"\"\n",
       "                            OLS Regression Results                            \n",
       "==============================================================================\n",
       "Dep. Variable:         hours_per_week   R-squared:                       0.094\n",
       "Model:                            OLS   Adj. R-squared:                  0.094\n",
       "Method:                 Least Squares   F-statistic:                     1130.\n",
       "Date:                Sun, 07 Feb 2021   Prob (F-statistic):               0.00\n",
       "Time:                        15:04:57   Log-Likelihood:            -1.2643e+05\n",
       "No. Observations:               32561   AIC:                         2.529e+05\n",
       "Df Residuals:                   32557   BIC:                         2.529e+05\n",
       "Df Model:                           3                                         \n",
       "Covariance Type:            nonrobust                                         \n",
       "==================================================================================================\n",
       "                                     coef    std err          t      P>|t|      [0.025      0.975]\n",
       "--------------------------------------------------------------------------------------------------\n",
       "Intercept                         31.4218      0.288    109.184      0.000      30.858      31.986\n",
       "C(sex)[T. Male]                    5.1010      0.142     35.907      0.000       4.823       5.379\n",
       "C(gross_income_group)[T. >50K]     4.5175      0.166     27.229      0.000       4.192       4.843\n",
       "education_num                      0.4478      0.027     16.632      0.000       0.395       0.501\n",
       "==============================================================================\n",
       "Omnibus:                     2984.190   Durbin-Watson:                   2.015\n",
       "Prob(Omnibus):                  0.000   Jarque-Bera (JB):            15467.160\n",
       "Skew:                           0.296   Prob(JB):                         0.00\n",
       "Kurtosis:                       6.324   Cond. No.                         48.1\n",
       "==============================================================================\n",
       "\n",
       "Notes:\n",
       "[1] Standard Errors assume that the covariance matrix of the errors is correctly specified.\n",
       "\"\"\""
      ]
     },
     "execution_count": 17,
     "metadata": {},
     "output_type": "execute_result"
    }
   ],
   "source": [
    "model = smf.ols('hours_per_week ~ C(sex) + education_num + C(gross_income_group)', data=income94).fit()\n",
    "model.summary()"
   ]
  },
  {
   "cell_type": "markdown",
   "metadata": {},
   "source": [
    "### Bonus\n",
    "\n",
    "$\n",
    "\\begin{align*}\n",
    "    \\hat{\\beta} &= \\frac{cov(x,y)}{var(x)} \\\\\n",
    "        &= \\frac{\\sum (x_i - \\bar{x})(y_i - \\bar{y})}{n-1} \\cdot \\frac{n-1}{\\sum (x_i-\\bar{x})^2} \\\\\n",
    "        &= \\frac{\\sum (x_i - \\bar{x})(y_i - \\bar{y})}{\\sum (x_i-\\bar{x})^2} \\\\\n",
    "        &= \\frac{\\sqrt{\\sum (y_i-\\bar{y})^2}}{\\sqrt{\\sum (x_i-\\bar{x})^2}} \\cdot \\frac{\\sum (x_i - \\bar{x})(y_i - \\bar{y})}{\\sqrt{(\\sum (x_i-\\bar{x})^2 \\sum (y_i-\\bar{y})^2)}} \\\\\n",
    "        \\hat{\\beta} &= \\frac{var(y)}{var(x)} corr(x,y)\n",
    "\\end{align*}\n",
    "$"
   ]
  },
  {
   "cell_type": "code",
   "execution_count": null,
   "metadata": {},
   "outputs": [],
   "source": []
  }
 ],
 "metadata": {
  "colab": {
   "authorship_tag": "ABX9TyNM9pRy6t+sRZgDuLsoDp+M",
   "collapsed_sections": [],
   "include_colab_link": true,
   "name": "JSC270_Assignment2_starter_code.ipynb",
   "provenance": []
  },
  "kernelspec": {
   "display_name": "Python 3",
   "language": "python",
   "name": "python3"
  },
  "language_info": {
   "codemirror_mode": {
    "name": "ipython",
    "version": 3
   },
   "file_extension": ".py",
   "mimetype": "text/x-python",
   "name": "python",
   "nbconvert_exporter": "python",
   "pygments_lexer": "ipython3",
   "version": "3.8.5"
  }
 },
 "nbformat": 4,
 "nbformat_minor": 1
}
